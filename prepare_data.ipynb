{
 "cells": [
  {
   "cell_type": "code",
   "execution_count": 21,
   "id": "23e13dc6",
   "metadata": {},
   "outputs": [],
   "source": [
    "import pandas as pd\n",
    "import random"
   ]
  },
  {
   "cell_type": "code",
   "execution_count": 22,
   "id": "24eea582",
   "metadata": {},
   "outputs": [],
   "source": [
    "# read dataset from excel file and store it inside DataFrame, generate unique id for each record \n",
    "records = pd.read_excel('Records.xlsx')\n",
    "ids = []\n",
    "while len(ids)<records.shape[0]:\n",
    "    ids.append(random.randint(100000000,999999999))\n",
    "    ids = list(set(ids))\n",
    "records['id'] = ids"
   ]
  },
  {
   "cell_type": "code",
   "execution_count": 23,
   "id": "fff75680",
   "metadata": {},
   "outputs": [],
   "source": [
    "records.to_excel('Records.xlsx')"
   ]
  }
 ],
 "metadata": {
  "kernelspec": {
   "display_name": "Python 3",
   "language": "python",
   "name": "python3"
  },
  "language_info": {
   "codemirror_mode": {
    "name": "ipython",
    "version": 3
   },
   "file_extension": ".py",
   "mimetype": "text/x-python",
   "name": "python",
   "nbconvert_exporter": "python",
   "pygments_lexer": "ipython3",
   "version": "3.10.7"
  }
 },
 "nbformat": 4,
 "nbformat_minor": 5
}
